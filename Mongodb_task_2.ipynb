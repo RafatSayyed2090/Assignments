{
 "cells": [
  {
   "cell_type": "markdown",
   "id": "c9972db9",
   "metadata": {},
   "source": [
    "**Students Database Mongodb task**"
   ]
  },
  {
   "cell_type": "code",
   "execution_count": 21,
   "id": "8bda5e5b",
   "metadata": {},
   "outputs": [],
   "source": [
    "import pymongo\n",
    "import json\n",
    "client=pymongo.MongoClient(\"mongodb://127.0.0.1:27017\")"
   ]
  },
  {
   "cell_type": "code",
   "execution_count": 5,
   "id": "d25b3021",
   "metadata": {},
   "outputs": [],
   "source": [
    "db=client[\"Student_database\"]     ## creating a database     "
   ]
  },
  {
   "cell_type": "code",
   "execution_count": 6,
   "id": "13e36adb",
   "metadata": {},
   "outputs": [],
   "source": [
    "stdnts=db['students']          ## creating a collection"
   ]
  },
  {
   "cell_type": "code",
   "execution_count": 7,
   "id": "4d66e8ab",
   "metadata": {},
   "outputs": [],
   "source": [
    "with open('D:\\\\data\\\\test_3.json','r') as file:\n",
    "    file_data = json.load(file)"
   ]
  },
  {
   "cell_type": "code",
   "execution_count": 27,
   "id": "d42e412d",
   "metadata": {},
   "outputs": [
    {
     "data": {
      "text/plain": [
       "<pymongo.results.InsertManyResult at 0x18f62ec7b20>"
      ]
     },
     "execution_count": 27,
     "metadata": {},
     "output_type": "execute_result"
    }
   ],
   "source": [
    "stdnts.insert_many(file_data)"
   ]
  },
  {
   "cell_type": "code",
   "execution_count": null,
   "id": "58a0059b",
   "metadata": {},
   "outputs": [],
   "source": [
    "my_dbs=client.list_database_names() ## to read existing databases in mongodb\n",
    "print(my_dbs)"
   ]
  },
  {
   "cell_type": "code",
   "execution_count": null,
   "id": "bdbe9c38",
   "metadata": {},
   "outputs": [],
   "source": [
    "#####################################################for getting average of exam scores"
   ]
  },
  {
   "cell_type": "code",
   "execution_count": 75,
   "id": "ff6343b8",
   "metadata": {},
   "outputs": [
    {
     "name": "stdout",
     "output_type": "stream",
     "text": [
      "48.67367075950175\n"
     ]
    }
   ],
   "source": [
    "agg_result= stdnts.aggregate([\n",
    "   {\n",
    "     \"$unwind\": \"$scores\"\n",
    "   },\n",
    "   {\n",
    "      \"$match\": { \"scores.type\": \"exam\" }\n",
    "   },\n",
    "   {\n",
    "      \"$group\": {\n",
    "         \"_id\": \"null\",\n",
    "         \"averageScore\": { \"$avg\": \"$scores.score\" }\n",
    "      }\n",
    "   }\n",
    "])\n",
    "for i in agg_result:\n",
    "    avg_exam=float(i.get(\"averageScore\"))\n",
    "print(avg_exam)\n"
   ]
  },
  {
   "cell_type": "code",
   "execution_count": null,
   "id": "2ff30229",
   "metadata": {},
   "outputs": [],
   "source": [
    "######################################  find max score of exam "
   ]
  },
  {
   "cell_type": "code",
   "execution_count": 41,
   "id": "205641d1",
   "metadata": {},
   "outputs": [
    {
     "name": "stdout",
     "output_type": "stream",
     "text": [
      "99.33685767140612\n"
     ]
    }
   ],
   "source": [
    "max_result=stdnts.aggregate([\n",
    "   {\n",
    "     \"$unwind\": \"$scores\"\n",
    "   },\n",
    "   {\n",
    "      \"$match\": { \"scores.type\": \"exam\" }\n",
    "   },\n",
    "   {\n",
    "      \"$group\": {\n",
    "         \"_id\": \"null\",\n",
    "         \"maxScore\": { \"$max\": \"$scores.score\" }\n",
    "      }\n",
    "   }\n",
    "])\n",
    "for i in max_result:\n",
    "     max_exam=float(i.get(\"maxScore\"))"
   ]
  },
  {
   "cell_type": "code",
   "execution_count": null,
   "id": "531cf89b",
   "metadata": {},
   "outputs": [],
   "source": [
    "####### max for quiz"
   ]
  },
  {
   "cell_type": "code",
   "execution_count": 38,
   "id": "0f5c7193",
   "metadata": {},
   "outputs": [
    {
     "name": "stdout",
     "output_type": "stream",
     "text": [
      "99.80348240553108\n"
     ]
    }
   ],
   "source": [
    "max_result1=stdnts.aggregate([\n",
    "   {\n",
    "     \"$unwind\": \"$scores\"\n",
    "   },\n",
    "   {\n",
    "      \"$match\": { \"scores.type\": \"quiz\" }\n",
    "   },\n",
    "   {\n",
    "      \"$group\": {\n",
    "         \"_id\": \"quiz\",\n",
    "         \"maxScore\": { \"$max\": \"$scores.score\" }\n",
    "      }\n",
    "   }\n",
    "])\n",
    "for i in max_result1:\n",
    "    max_quiz=float(i.get(\"maxScore\"))"
   ]
  },
  {
   "cell_type": "code",
   "execution_count": null,
   "id": "30fd28ac",
   "metadata": {},
   "outputs": [],
   "source": [
    "#### max for homework"
   ]
  },
  {
   "cell_type": "code",
   "execution_count": 74,
   "id": "0b62c112",
   "metadata": {},
   "outputs": [
    {
     "name": "stdout",
     "output_type": "stream",
     "text": [
      "99.77237745070993\n"
     ]
    }
   ],
   "source": [
    "max_result2=stdnts.aggregate([\n",
    "   {\n",
    "     \"$unwind\": \"$scores\"\n",
    "   },\n",
    "   {\n",
    "      \"$match\": { \"scores.type\": \"homework\" }\n",
    "   },\n",
    "   {\n",
    "      \"$group\": {\n",
    "         \"_id\": \"homework\",\n",
    "         \"maxScore\": { \"$max\": \"$scores.score\" }\n",
    "      }\n",
    "   }\n",
    "])\n",
    "for i in max_result2:\n",
    "     max_homework=float(i.get(\"maxScore\"))\n",
    "print(max_homework)"
   ]
  },
  {
   "cell_type": "code",
   "execution_count": null,
   "id": "1eae1015",
   "metadata": {},
   "outputs": [],
   "source": [
    "##############################################3"
   ]
  },
  {
   "cell_type": "markdown",
   "id": "b454d565",
   "metadata": {},
   "source": [
    "**1)Find the student name who scored maximum scores in all (exam, quiz and homework)?**"
   ]
  },
  {
   "cell_type": "code",
   "execution_count": 108,
   "id": "75f3341f",
   "metadata": {},
   "outputs": [],
   "source": [
    "result=stdnts.aggregate([\n",
    "   {\n",
    "     \"$unwind\": \"$scores\"\n",
    "   },\n",
    "   {\n",
    "      \"$match\": {\n",
    "         \"scores.type\": \"exam\",\n",
    "         \"scores.score\": { \"$gte\": max_exam }\n",
    "      }\n",
    "   },\n",
    "   {\n",
    "      \"$match\": {\n",
    "         \"scores.type\": \"quiz\",\n",
    "         \"scores.score\": { \"$gte\": max_quiz }\n",
    "      }\n",
    "   },\n",
    "   {\n",
    "      \"$match\": {\n",
    "         \"scores.type\": \"homework\",\n",
    "         \"scores.score\": { \"$gte\": max_homework }\n",
    "      }\n",
    "   },\n",
    "   {\n",
    "      \"$group\": {\n",
    "         \"_id\": \"$name\",\n",
    "         \"count\": { \"$sum\": 1 }\n",
    "      }\n",
    "   },\n",
    "   {\n",
    "      \"$match\": {\n",
    "         \"count\": 3\n",
    "      }\n",
    "   }\n",
    "])\n",
    "for i in result:\n",
    "    print(i)"
   ]
  },
  {
   "cell_type": "markdown",
   "id": "5d8d0c6c",
   "metadata": {},
   "source": [
    "**2)      Find students who scored below average in the exam and pass mark is 40%?**"
   ]
  },
  {
   "cell_type": "code",
   "execution_count": null,
   "id": "41a03ac6",
   "metadata": {},
   "outputs": [],
   "source": [
    "x=stdnts.aggregate([\n",
    "   {\n",
    "      \"$unwind\": \"$scores\"\n",
    "   },\n",
    "   {\n",
    "      \"$match\": {\n",
    "         \"scores.type\": \"exam\"\n",
    "      }\n",
    "   },\n",
    "   {\n",
    "      \"$group\": {\n",
    "         \"_id\": \"$name\",\n",
    "         \"exam_score\": { \"$sum\": \"$scores.score\" }\n",
    "      }\n",
    "   },\n",
    "   {\n",
    "      \"$match\": {\n",
    "         \"exam_score\": { \"$lt\": avg_exam}\n",
    "      }\n",
    "   }\n",
    "])\n",
    "for i in x:\n",
    "    print(i)"
   ]
  },
  {
   "cell_type": "markdown",
   "id": "37bf9068",
   "metadata": {},
   "source": [
    "**3)      Find students who scored below pass mark and assigned them as fail, and above pass mark as pass in all the categories.**"
   ]
  },
  {
   "cell_type": "code",
   "execution_count": null,
   "id": "301a0a06",
   "metadata": {},
   "outputs": [],
   "source": [
    "THRESHOLD = 40\n",
    "# Update all documents to set the \"status\" field to \"pass\"\n",
    "result = stdnts.update_many({}, {\"$set\": {\"status\": \"pass\"}})\n",
    "\n",
    "# Print the number of documents updated\n",
    "print(result.modified_count)\n",
    "\n",
    "# Update the documents and set the \"status\" field to \"fail\" if the score is below the threshold\n",
    "result = stdnts.update_many(\n",
    "    {\"scores\": {\"$elemMatch\": {\"type\": \"exam\", \"score\": {\"$lt\":THRESHOLD}}}},\n",
    "    {\"$set\": {\"status\": \"fail\"}}\n",
    ")\n",
    "print(f\"{result.modified_count} documents updated for exams\")\n",
    "\n",
    "result = stdnts.update_many(\n",
    "    {\"scores\": {\"$elemMatch\": {\"type\": \"quiz\", \"score\": {\"$lt\":THRESHOLD}}}},\n",
    "    {\"$set\": {\"status\": \"fail\"}}\n",
    ")\n",
    "print(f\"{result.modified_count} documents updated for quizzes\")\n",
    "\n",
    "result = stdnts.update_many(\n",
    "    {\"scores\": {\"$elemMatch\": {\"type\": \"homework\", \"score\": {\"$lt\":THRESHOLD}}}},\n",
    "    {\"$set\": {\"status\": \"fail\"}}\n",
    ")\n",
    "print(f\"{result.modified_count} documents updated for homework\")"
   ]
  },
  {
   "cell_type": "markdown",
   "id": "5b3d7524",
   "metadata": {},
   "source": [
    "**4)       Find the total and average of the exam, quiz and homework and store them in a separate collection**"
   ]
  },
  {
   "cell_type": "code",
   "execution_count": null,
   "id": "37fcf6be",
   "metadata": {},
   "outputs": [],
   "source": [
    "##Didnt understand the above question \n",
    "#will solve once question is explained"
   ]
  },
  {
   "cell_type": "markdown",
   "id": "cdc60d24",
   "metadata": {},
   "source": [
    "**5)      Create a new collection which consists of students who scored below average and above 40% in all the categories.**"
   ]
  },
  {
   "cell_type": "code",
   "execution_count": null,
   "id": "1caf5753",
   "metadata": {},
   "outputs": [],
   "source": [
    "# Calculate the average scores for each type of score\n",
    "pipeline = [\n",
    "    {\"$unwind\": \"$scores\"},\n",
    "    {\"$group\": {\"_id\": \"$scores.type\", \"avg_score\": {\"$avg\": \"$scores.score\"}}},\n",
    "]\n",
    "avg_scores = list(stdnts.aggregate(pipeline))\n",
    "\n",
    "# Create a dictionary with the average scores\n",
    "avg_score_dict = {doc[\"_id\"]: doc[\"avg_score\"] for doc in avg_scores}\n",
    "print(avg_score_dict)\n",
    "# Filter the documents based on the average scores\n",
    "query = {\n",
    "    \"scores\": {\n",
    "        \"$elemMatch\": {\n",
    "            \"$and\": [\n",
    "                {\"type\": {\"$in\": [\"exam\", \"quiz\", \"homework\"]}},\n",
    "                {\"score\": {\"$gt\": 40}},\n",
    "                {\"score\": {\"$lt\": avg_score_dict[\"type\"]}},\n",
    "            ]\n",
    "        }\n",
    "    }\n",
    "}\n",
    "filtered_docs = stdnts.find(query)\n",
    "\n",
    "# Create a new collection with the filtered documents\n",
    "below_avg_pass_col = db[\"below_avg_pass\"]\n",
    "below_avg_pass_col.insert_many(filtered_docs)"
   ]
  },
  {
   "cell_type": "markdown",
   "id": "495b7d61",
   "metadata": {},
   "source": [
    "**6)Create a new collection which consists of students who scored below the fail mark in all the categories.**"
   ]
  },
  {
   "cell_type": "code",
   "execution_count": null,
   "id": "8b48d536",
   "metadata": {},
   "outputs": [],
   "source": [
    "# Create the new collection\n",
    "failed_collection = db[\"failed_students\"]\n",
    "\n",
    "# Iterate through the documents in the collection\n",
    "for doc in stdnts.find({}):\n",
    "    # Check if the student failed the exam, quiz, and homework\n",
    "    failed = True\n",
    "    for score in doc[\"scores\"]:\n",
    "        if score[\"type\"] == \"exam\" and score[\"score\"] >= 40:\n",
    "            failed = False\n",
    "            break\n",
    "        elif score[\"type\"] == \"quiz\" and score[\"score\"] >= 40:\n",
    "            failed = False\n",
    "            break\n",
    "        elif score[\"type\"] == \"homework\" and score[\"score\"] >= 40:\n",
    "            failed = False\n",
    "            break\n",
    "    # If the student failed all exams, insert the document into the new collection\n",
    "    if failed:\n",
    "        failed_collection.insert_one(doc)\n",
    "\n",
    "# Print the number of documents in the new collection\n",
    "print(failed_collection.count_documents({}))\n",
    "for document in failed_collection.find():\n",
    "    print(document)"
   ]
  },
  {
   "cell_type": "markdown",
   "id": "5fcceadc",
   "metadata": {},
   "source": [
    "**7)      Create a new collection which consists of students who scored above pass mark in all the categories.**"
   ]
  },
  {
   "cell_type": "code",
   "execution_count": null,
   "id": "3ee8a22a",
   "metadata": {},
   "outputs": [],
   "source": [
    "# Create the new collection\n",
    "passed_collection = db[\"passed_students\"]\n",
    "\n",
    "# Iterate through the documents in the collection\n",
    "for doc in stdnts.find({}):\n",
    "    # Check if the student passed the exam, quiz, and homework\n",
    "    passed = True\n",
    "    for score in doc[\"scores\"]:\n",
    "        if score[\"type\"] == \"exam\" and score[\"score\"] < 40:\n",
    "            passed = False\n",
    "            break\n",
    "        elif score[\"type\"] == \"quiz\" and score[\"score\"] < 40:\n",
    "            passed = False\n",
    "            break\n",
    "        elif score[\"type\"] == \"homework\" and score[\"score\"] < 40:\n",
    "            passed = False\n",
    "            break\n",
    "    # If the student failed all exams, insert the document into the new collection\n",
    "    if passed:\n",
    "        passed_collection.insert_one(doc)\n",
    "\n",
    "# Print the number of documents in the new collection\n",
    "print(passed_collection.count_documents({}))\n",
    "for document in passed_collection.find():\n",
    "    print(document)"
   ]
  },
  {
   "cell_type": "markdown",
   "id": "e09e521d",
   "metadata": {},
   "source": [
    "**Telephone Directory CRUD Operation mongodb task**"
   ]
  },
  {
   "cell_type": "code",
   "execution_count": 1,
   "id": "f0f70ebd",
   "metadata": {},
   "outputs": [],
   "source": [
    "import pymongo\n",
    "client=pymongo.MongoClient(\"mongodb://127.0.0.1:27017\")"
   ]
  },
  {
   "cell_type": "code",
   "execution_count": 2,
   "id": "b2ec3339",
   "metadata": {},
   "outputs": [],
   "source": [
    "db=client[\"Telephone_directory\"]     ## creating a database     "
   ]
  },
  {
   "cell_type": "code",
   "execution_count": 3,
   "id": "9ea426ff",
   "metadata": {},
   "outputs": [],
   "source": [
    "contact_details=db['Contact_Details']          ## creating a collection"
   ]
  },
  {
   "cell_type": "code",
   "execution_count": 13,
   "id": "e88b8a84",
   "metadata": {},
   "outputs": [
    {
     "name": "stdout",
     "output_type": "stream",
     "text": [
      "<pymongo.results.InsertManyResult object at 0x00000210FFCA8BB0>\n"
     ]
    }
   ],
   "source": [
    "contact_info=[{'name': 'Arjun','phone_number':9845755542,'city':'Nanded'},\n",
    "              {'name': 'Dittya Thakre','phone_number':7854857542,'city':'Pune'},\n",
    "              {'name': 'Ranjeet Chaudhry','phone_number':8457961234,'city':'Mumbai'},\n",
    "              {'name': 'Suman Pandey','phone_number':9845875462,'city':'Ahmednagar'},\n",
    "              {'name': 'Rishabh Pant','phone_number':8754693214,'city':'Solapur'},\n",
    "              {'name': 'Taehyung Kim','phone_number':5697541247,'city':'Daegu'},\n",
    "              {'name': 'Park Jimin','phone_number':6589741237,'city':'Busan'},\n",
    "              {'name': 'Jungkook John','phone_number':8547962541,'city':'Busan'},\n",
    "              {'name': 'Seokjin Kim','phone_number':4568721397,'city':'Seoul'},\n",
    "              {'name': 'Namjoon Kim','phone_number':2564781399,'city':'Seoul'}\n",
    "              ]\n",
    "contact_information=contact_details.insert_many(contact_info)  ## inserting many docs at a time\n",
    "print(contact_information)\n",
    "# for document in contact_details:\n",
    "#    print(document)"
   ]
  },
  {
   "cell_type": "code",
   "execution_count": 14,
   "id": "47ea4cf8",
   "metadata": {},
   "outputs": [
    {
     "name": "stdout",
     "output_type": "stream",
     "text": [
      "['GUVI1', 'IIT', 'Student_database', 'Telephone_directory', 'admin', 'config', 'guvi', 'local']\n"
     ]
    }
   ],
   "source": [
    "my_dbs=client.list_database_names() ## to read existing databases in mongodb\n",
    "print(my_dbs)"
   ]
  },
  {
   "cell_type": "code",
   "execution_count": 15,
   "id": "3dbf9857",
   "metadata": {},
   "outputs": [
    {
     "name": "stdout",
     "output_type": "stream",
     "text": [
      "{'name': 'Arjun', 'phone_number': 9845755542, 'city': 'Nanded'}\n",
      "{'name': 'Dittya Thakre', 'phone_number': 7854857542, 'city': 'Pune'}\n",
      "{'name': 'Ranjeet Chaudhry', 'phone_number': 8457961234, 'city': 'Mumbai'}\n",
      "{'name': 'Suman Pandey', 'phone_number': 9845875462, 'city': 'Ahmednagar'}\n",
      "{'name': 'Rishabh Pant', 'phone_number': 8754693214, 'city': 'Solapur'}\n",
      "{'name': 'Taehyung Kim', 'phone_number': 5697541247, 'city': 'Daegu'}\n",
      "{'name': 'Park Jimin', 'phone_number': 6589741237, 'city': 'Busan'}\n",
      "{'name': 'Jungkook John', 'phone_number': 8547962541, 'city': 'Busan'}\n",
      "{'name': 'Seokjin Kim', 'phone_number': 4568721397, 'city': 'Seoul'}\n",
      "{'name': 'Namjoon Kim', 'phone_number': 2564781399, 'city': 'Seoul'}\n"
     ]
    }
   ],
   "source": [
    "for document in contact_details.find({},{'_id':0}):  ##query to find records \n",
    "    print(document) "
   ]
  },
  {
   "cell_type": "code",
   "execution_count": 16,
   "id": "b41df718",
   "metadata": {},
   "outputs": [
    {
     "name": "stdout",
     "output_type": "stream",
     "text": [
      "{'name': 'Ranjeet Chaudhry', 'phone_number': 8457961234, 'city': 'Mumbai'}\n",
      "{'name': 'Suman Pandey', 'phone_number': 9845875462, 'city': 'Ahmednagar'}\n",
      "{'name': 'Rishabh Pant', 'phone_number': 8754693214, 'city': 'Solapur'}\n",
      "{'name': 'Taehyung Kim', 'phone_number': 5697541247, 'city': 'Daegu'}\n",
      "{'name': 'Park Jimin', 'phone_number': 6589741237, 'city': 'Busan'}\n",
      "{'name': 'Jungkook John', 'phone_number': 8547962541, 'city': 'Busan'}\n",
      "{'name': 'Seokjin Kim', 'phone_number': 4568721397, 'city': 'Seoul'}\n",
      "{'name': 'Namjoon Kim', 'phone_number': 2564781399, 'city': 'Seoul'}\n"
     ]
    }
   ],
   "source": [
    "for document in contact_details.find({'name':{'$gt':'G'}},{'_id':0}):  ## query to find records by giving conditions\n",
    "    print(document)  "
   ]
  },
  {
   "cell_type": "code",
   "execution_count": 17,
   "id": "0d9003df",
   "metadata": {},
   "outputs": [
    {
     "name": "stdout",
     "output_type": "stream",
     "text": [
      "{'_id': ObjectId('63b59a698291698b1cd1a77a'), 'name': 'Arjun Pandey', 'phone_number': 9845755542, 'city': 'Nanded'}\n",
      "{'_id': ObjectId('63b59a698291698b1cd1a77b'), 'name': 'Dittya Thakre', 'phone_number': 7854857542, 'city': 'Pune'}\n",
      "{'_id': ObjectId('63b59a698291698b1cd1a77c'), 'name': 'Ranjeet Chaudhry', 'phone_number': 8457961234, 'city': 'Mumbai'}\n",
      "{'_id': ObjectId('63b59a698291698b1cd1a77d'), 'name': 'Suman Pandey', 'phone_number': 9845875462, 'city': 'Ahmednagar'}\n",
      "{'_id': ObjectId('63b59a698291698b1cd1a77e'), 'name': 'Rishabh Pant', 'phone_number': 8754693214, 'city': 'Solapur'}\n",
      "{'_id': ObjectId('63b59a698291698b1cd1a77f'), 'name': 'Taehyung Kim', 'phone_number': 5697541247, 'city': 'Daegu'}\n",
      "{'_id': ObjectId('63b59a698291698b1cd1a780'), 'name': 'Park Jimin', 'phone_number': 6589741237, 'city': 'Busan'}\n",
      "{'_id': ObjectId('63b59a698291698b1cd1a781'), 'name': 'Jungkook John', 'phone_number': 8547962541, 'city': 'Busan'}\n",
      "{'_id': ObjectId('63b59a698291698b1cd1a782'), 'name': 'Seokjin Kim', 'phone_number': 4568721397, 'city': 'Seoul'}\n",
      "{'_id': ObjectId('63b59a698291698b1cd1a783'), 'name': 'Namjoon Kim', 'phone_number': 2564781399, 'city': 'Seoul'}\n"
     ]
    }
   ],
   "source": [
    "old_data={'name': 'Arjun'}                         ## updating the existing data using update_one query\n",
    "new_data={\"$set\":{'name': 'Arjun Pandey'}}\n",
    "contact_details.update_one(old_data,new_data)\n",
    "for document in contact_details.find():\n",
    "    print(document)"
   ]
  },
  {
   "cell_type": "code",
   "execution_count": 18,
   "id": "a7cf88ed",
   "metadata": {},
   "outputs": [
    {
     "name": "stdout",
     "output_type": "stream",
     "text": [
      "{'_id': ObjectId('63b59a698291698b1cd1a77a'), 'name': 'Arjun Pandey', 'phone_number': 9845755542, 'city': 'Nanded'}\n",
      "{'_id': ObjectId('63b59a698291698b1cd1a77b'), 'name': 'Dittya Thakre', 'phone_number': 7854857542, 'city': 'Pune'}\n",
      "{'_id': ObjectId('63b59a698291698b1cd1a77c'), 'name': 'Ranjeet Chaudhry', 'phone_number': 8457961234, 'city': 'Mumbai'}\n",
      "{'_id': ObjectId('63b59a698291698b1cd1a77d'), 'name': 'Suman Pandey', 'phone_number': 9845875462, 'city': 'Ahmednagar'}\n",
      "{'_id': ObjectId('63b59a698291698b1cd1a77e'), 'name': 'Rishabh Pant', 'phone_number': 8754693214, 'city': 'Solapur'}\n",
      "{'_id': ObjectId('63b59a698291698b1cd1a77f'), 'name': 'Taehyung Kim', 'phone_number': 5697541247, 'city': 'Daegu', 'country': 'Korea', 'job_role': 'Kpop_Idol'}\n",
      "{'_id': ObjectId('63b59a698291698b1cd1a780'), 'name': 'Park Jimin', 'phone_number': 6589741237, 'city': 'Busan'}\n",
      "{'_id': ObjectId('63b59a698291698b1cd1a781'), 'name': 'Jungkook John', 'phone_number': 8547962541, 'city': 'Busan'}\n",
      "{'_id': ObjectId('63b59a698291698b1cd1a782'), 'name': 'Seokjin Kim', 'phone_number': 4568721397, 'city': 'Seoul'}\n",
      "{'_id': ObjectId('63b59a698291698b1cd1a783'), 'name': 'Namjoon Kim', 'phone_number': 2564781399, 'city': 'Seoul'}\n"
     ]
    }
   ],
   "source": [
    "old_data={'name':'Taehyung Kim'}                  ## updating the existing data using upate_many query\n",
    "new_data={\"$set\":{'country':'Korea','job_role':'Kpop_Idol'}}\n",
    "contact_details.update_many(old_data,new_data)\n",
    "\n",
    "for document in contact_details.find():\n",
    "    print(document)"
   ]
  },
  {
   "cell_type": "code",
   "execution_count": 19,
   "id": "b52740d9",
   "metadata": {},
   "outputs": [
    {
     "data": {
      "text/plain": [
       "<pymongo.results.DeleteResult at 0x210fdeaa340>"
      ]
     },
     "execution_count": 19,
     "metadata": {},
     "output_type": "execute_result"
    }
   ],
   "source": [
    "myquery = { \"name\": \"Arjun Pandey\",\"phone_number\":9845755542,\"city\":\"Nanded\"}\n",
    "contact_details.delete_one(myquery)"
   ]
  },
  {
   "cell_type": "code",
   "execution_count": 20,
   "id": "3434f0ba",
   "metadata": {},
   "outputs": [
    {
     "name": "stdout",
     "output_type": "stream",
     "text": [
      "{'_id': ObjectId('63b59a698291698b1cd1a77b'), 'name': 'Dittya Thakre', 'phone_number': 7854857542, 'city': 'Pune'}\n",
      "{'_id': ObjectId('63b59a698291698b1cd1a77c'), 'name': 'Ranjeet Chaudhry', 'phone_number': 8457961234, 'city': 'Mumbai'}\n",
      "{'_id': ObjectId('63b59a698291698b1cd1a77d'), 'name': 'Suman Pandey', 'phone_number': 9845875462, 'city': 'Ahmednagar'}\n",
      "{'_id': ObjectId('63b59a698291698b1cd1a77e'), 'name': 'Rishabh Pant', 'phone_number': 8754693214, 'city': 'Solapur'}\n",
      "{'_id': ObjectId('63b59a698291698b1cd1a77f'), 'name': 'Taehyung Kim', 'phone_number': 5697541247, 'city': 'Daegu', 'country': 'Korea', 'job_role': 'Kpop_Idol'}\n",
      "{'_id': ObjectId('63b59a698291698b1cd1a780'), 'name': 'Park Jimin', 'phone_number': 6589741237, 'city': 'Busan'}\n",
      "{'_id': ObjectId('63b59a698291698b1cd1a781'), 'name': 'Jungkook John', 'phone_number': 8547962541, 'city': 'Busan'}\n",
      "{'_id': ObjectId('63b59a698291698b1cd1a782'), 'name': 'Seokjin Kim', 'phone_number': 4568721397, 'city': 'Seoul'}\n",
      "{'_id': ObjectId('63b59a698291698b1cd1a783'), 'name': 'Namjoon Kim', 'phone_number': 2564781399, 'city': 'Seoul'}\n"
     ]
    }
   ],
   "source": [
    "for document in contact_details.find():\n",
    "    print(document)"
   ]
  }
 ],
 "metadata": {
  "kernelspec": {
   "display_name": "Python 3 (ipykernel)",
   "language": "python",
   "name": "python3"
  },
  "language_info": {
   "codemirror_mode": {
    "name": "ipython",
    "version": 3
   },
   "file_extension": ".py",
   "mimetype": "text/x-python",
   "name": "python",
   "nbconvert_exporter": "python",
   "pygments_lexer": "ipython3",
   "version": "3.9.12"
  }
 },
 "nbformat": 4,
 "nbformat_minor": 5
}
