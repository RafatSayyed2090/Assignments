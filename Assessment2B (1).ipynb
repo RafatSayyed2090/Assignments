{
 "cells": [
  {
   "cell_type": "markdown",
   "metadata": {
    "id": "WIYM4HNT76YO"
   },
   "source": [
    "###### Assessment"
   ]
  },
  {
   "cell_type": "markdown",
   "metadata": {
    "id": "LGGXX9fk76YW"
   },
   "source": [
    "###### I am going to provide two .csv files , you are supposed to work on them and have to provide solutions to the following problems"
   ]
  },
  {
   "cell_type": "markdown",
   "metadata": {
    "id": "ESIot6hB76YX"
   },
   "source": [
    "###### import necessary libraries"
   ]
  },
  {
   "cell_type": "code",
   "execution_count": null,
   "metadata": {
    "id": "4cWXzUOx76YY"
   },
   "outputs": [],
   "source": [
    "import pandas as pd\n",
    "import numpy as np"
   ]
  },
  {
   "cell_type": "markdown",
   "metadata": {
    "id": "hz6qjeMU76YZ"
   },
   "source": [
    "###### merge those two csv files (after getting as dataframes, get them as a single dataframe)"
   ]
  },
  {
   "cell_type": "code",
   "execution_count": null,
   "metadata": {
    "id": "i7HURKtY76YZ"
   },
   "outputs": [],
   "source": [
    "import pandas as pd  ##reading the data set\n",
    "import os\n",
    "os.chdir('D:\\python data set')\n",
    "df_1=pd.read_csv('college_1.csv')\n",
    "df_2=pd.read_csv('college_2.csv')"
   ]
  },
  {
   "cell_type": "code",
   "execution_count": null,
   "metadata": {},
   "outputs": [],
   "source": [
    "df=df_1.append(df_2,ignore_index=True)\n",
    "df.head()"
   ]
  },
  {
   "cell_type": "code",
   "execution_count": null,
   "metadata": {},
   "outputs": [],
   "source": [
    "# Final / Merged dataframe\n",
    "data=df.fillna(0)\n",
    "data.head()"
   ]
  },
  {
   "cell_type": "markdown",
   "metadata": {
    "id": "VsYBweun76YZ"
   },
   "source": [
    "###### Take each csv file , split that csv file into multiple categories (example csv files are added in the repo) \n"
   ]
  },
  {
   "cell_type": "markdown",
   "metadata": {
    "id": "rlKpL-Ky76Ya"
   },
   "source": [
    "###### consider if the codekata score exceeds 15000 points(present week) then make a csv on those observations as Exceeded expectations.csv\n"
   ]
  },
  {
   "cell_type": "markdown",
   "metadata": {
    "id": "kSjAjP7i76Yb"
   },
   "source": [
    "###### if  10000<codekata score<15000   (Reached_expectations.csv)\n",
    "\n"
   ]
  },
  {
   "cell_type": "markdown",
   "metadata": {
    "id": "XzeeZfWE76Yb"
   },
   "source": [
    "###### if  7000<codekata score<10000   (Needs_Improvement.csv)\n"
   ]
  },
  {
   "cell_type": "markdown",
   "metadata": {
    "id": "94A8ftyf76Yb"
   },
   "source": [
    "###### if  codekate score < 7000        (Unsatisfactory.csv)"
   ]
  },
  {
   "cell_type": "code",
   "execution_count": null,
   "metadata": {
    "id": "rTHHnkAB76Yc"
   },
   "outputs": [],
   "source": [
    "exceed_exp=data[data[\"CodeKata Score\"]>15000]\n",
    "exceed_exp.to_csv('Exceeded_expectations.csv')"
   ]
  },
  {
   "cell_type": "code",
   "execution_count": null,
   "metadata": {
    "id": "LLUIs-QT76Yc"
   },
   "outputs": [],
   "source": [
    "reached_exp=data[(data[\"CodeKata Score\"]>10000) & (data[\"CodeKata Score\"]<15000)]\n",
    "reached_exp.to_csv('Reached_expectations.csv')"
   ]
  },
  {
   "cell_type": "code",
   "execution_count": null,
   "metadata": {},
   "outputs": [],
   "source": [
    "needs_improve=data[(data[\"CodeKata Score\"]>7000) & (data[\"CodeKata Score\"]<10000)]\n",
    "needs_improve.to_csv('Needs_Improvement.csv')"
   ]
  },
  {
   "cell_type": "code",
   "execution_count": null,
   "metadata": {},
   "outputs": [],
   "source": [
    "unsatisfac=data[data[\"CodeKata Score\"]<7000]\n",
    "unsatisfac.to_csv('Unsatisfactory.csv')"
   ]
  },
  {
   "cell_type": "markdown",
   "metadata": {
    "id": "T9hUG-C576Yc"
   },
   "source": [
    "###### Average of previous week geekions vs this week geekions (i.e Previous Geekions vs CodeKata Score)"
   ]
  },
  {
   "cell_type": "code",
   "execution_count": null,
   "metadata": {},
   "outputs": [],
   "source": [
    "data.columns"
   ]
  },
  {
   "cell_type": "code",
   "execution_count": null,
   "metadata": {
    "id": "x2jghRYX76Yc"
   },
   "outputs": [],
   "source": [
    "cols = ['Previous Geekions', 'CodeKata Score']\n",
    "\n",
    "data[cols].mean()"
   ]
  },
  {
   "cell_type": "markdown",
   "metadata": {
    "id": "POKK169876Yc"
   },
   "source": [
    "###### No of students participated "
   ]
  },
  {
   "cell_type": "code",
   "execution_count": null,
   "metadata": {
    "id": "TbHkClXk76Yd"
   },
   "outputs": [],
   "source": [
    "x=data.shape[0]\n",
    "print(\"No of students participated: \",x)"
   ]
  },
  {
   "cell_type": "code",
   "execution_count": null,
   "metadata": {},
   "outputs": [],
   "source": [
    "data"
   ]
  },
  {
   "cell_type": "markdown",
   "metadata": {
    "id": "F1DQYoWl76Yd"
   },
   "source": [
    "###### #Average completion of python course or my_sql or python english or computational thinking"
   ]
  },
  {
   "cell_type": "code",
   "execution_count": null,
   "metadata": {
    "id": "6IYUv0oW76Yd"
   },
   "outputs": [],
   "source": [
    "python_completion=data[data['python']==100]\n",
    "python_completion.shape"
   ]
  },
  {
   "cell_type": "code",
   "execution_count": null,
   "metadata": {},
   "outputs": [],
   "source": [
    "print(\"No of students completed the python course is:\",python_completion.shape[0])\n",
    "print(\"Overall students :\",data.shape[0])\n",
    "b=(python_completion.shape[0]/data.shape[0])*100\n",
    "print(\"Percentage of students completed the python assignment is :\",round(b))"
   ]
  },
  {
   "cell_type": "code",
   "execution_count": null,
   "metadata": {},
   "outputs": [],
   "source": [
    "# For completion of my_sql\n",
    "mysql_completion=data[data['mysql']==100]\n",
    "mysql_completion.shape"
   ]
  },
  {
   "cell_type": "code",
   "execution_count": null,
   "metadata": {},
   "outputs": [],
   "source": [
    "print(\"No of students completed the my_sql course is:\",mysql_completion.shape[0])\n",
    "print(\"Overall students :\",data.shape[0])\n",
    "g=(mysql_completion.shape[0]/data.shape[0])*100\n",
    "print(\"Percentage of students completed the my_sql assignment is :\",round(g))"
   ]
  },
  {
   "cell_type": "code",
   "execution_count": null,
   "metadata": {},
   "outputs": [],
   "source": [
    "# For completion of python english\n",
    "python_en_completion=data[data['python_en']==100]\n",
    "python_en_completion.shape"
   ]
  },
  {
   "cell_type": "code",
   "execution_count": null,
   "metadata": {},
   "outputs": [],
   "source": [
    "print(\"No of students completed the python_en course is:\",python_en_completion.shape[0])\n",
    "print(\"Overall students :\",data.shape[0])\n",
    "f=(python_en_completion.shape[0]/data.shape[0])*100\n",
    "print(\"Percentage of students completed the python_en assignment is :\",round(f))"
   ]
  },
  {
   "cell_type": "code",
   "execution_count": null,
   "metadata": {},
   "outputs": [],
   "source": [
    "# For completion of Computational thinking"
   ]
  },
  {
   "cell_type": "code",
   "execution_count": null,
   "metadata": {},
   "outputs": [],
   "source": [
    "computational_thinking_completion=data[data['computational_thinking']==100]\n",
    "computational_thinking_completion.shape"
   ]
  },
  {
   "cell_type": "code",
   "execution_count": null,
   "metadata": {},
   "outputs": [],
   "source": [
    "print(\"No of students completed the computational_thinking course is:\",computational_thinking_completion.shape[0])\n",
    "print(\"Overall students :\",data.shape[0])\n",
    "f=(computational_thinking_completion.shape[0]/data.shape[0])*100\n",
    "print(\"Percentage of students completed the computational_thinking assignment is :\",round(f))"
   ]
  },
  {
   "cell_type": "code",
   "execution_count": null,
   "metadata": {},
   "outputs": [],
   "source": [
    "Average=data.loc[(data['python']==100)|(data['mysql']==100)|(data['python_en']==100)|(data['computational_thinking']==100)]\n",
    "Average.shape"
   ]
  },
  {
   "cell_type": "code",
   "execution_count": null,
   "metadata": {},
   "outputs": [],
   "source": [
    "m=(Average.shape[0]/data.shape[0])*100\n",
    "print(\"Average completion of python course or my_sql or python english or computational thinking is :\",m)\n"
   ]
  },
  {
   "cell_type": "code",
   "execution_count": null,
   "metadata": {},
   "outputs": [],
   "source": [
    "data.head()"
   ]
  },
  {
   "cell_type": "markdown",
   "metadata": {
    "id": "L_BG4GfP76Yd"
   },
   "source": [
    "###### rising star of the week (top 3 candidate who performed well in that particular week)"
   ]
  },
  {
   "cell_type": "code",
   "execution_count": null,
   "metadata": {
    "id": "K2B2ZLYG76Yd"
   },
   "outputs": [],
   "source": [
    "data['performance'] = data['CodeKata Score'] -data['Previous Geekions']\n",
    "data"
   ]
  },
  {
   "cell_type": "code",
   "execution_count": null,
   "metadata": {},
   "outputs": [],
   "source": [
    "weektop_performer=data.nlargest(3, ['performance'])\n",
    "weektop_performer"
   ]
  },
  {
   "cell_type": "code",
   "execution_count": null,
   "metadata": {},
   "outputs": [],
   "source": [
    "print('rising star of the week (top 3 candidate who performed well in that particular week) are')\n",
    "for i in weektop_performer['Name']:\n",
    "    print(i)"
   ]
  },
  {
   "cell_type": "markdown",
   "metadata": {
    "id": "JAqhBNDt76Yd"
   },
   "source": [
    "###### Shining stars of the week (top 3 candidates who has highest geekions)"
   ]
  },
  {
   "cell_type": "code",
   "execution_count": null,
   "metadata": {},
   "outputs": [],
   "source": [
    "overalltop_performer=data.nlargest(3, ['CodeKata Score'])\n",
    "overalltop_performer\n",
    "\n",
    "print('Shining stars of the week (top 3 candidates who has highest geekions) are')\n",
    "for i in overalltop_performer['Name']:\n",
    "    print(i)"
   ]
  },
  {
   "cell_type": "markdown",
   "metadata": {
    "id": "ot6FRYTI76Ye"
   },
   "source": [
    "###### Department wise codekata performence (pie chart)"
   ]
  },
  {
   "cell_type": "code",
   "execution_count": null,
   "metadata": {
    "id": "E1hzh8YF76Ye"
   },
   "outputs": [],
   "source": [
    "data['Department'].unique()\n",
    "\n",
    "cs=data[data['Department']=='Computer Science and Engineering']\n",
    "cs\n"
   ]
  },
  {
   "cell_type": "code",
   "execution_count": null,
   "metadata": {},
   "outputs": [],
   "source": [
    "cs['CodeKata Score'].mean()"
   ]
  },
  {
   "cell_type": "code",
   "execution_count": null,
   "metadata": {},
   "outputs": [],
   "source": [
    "elec_comm=data[data['Department']=='Electronics and Communication Engineering']\n",
    "elec_comm"
   ]
  },
  {
   "cell_type": "code",
   "execution_count": null,
   "metadata": {},
   "outputs": [],
   "source": [
    "elec_comm['CodeKata Score'].mean()"
   ]
  },
  {
   "cell_type": "code",
   "execution_count": null,
   "metadata": {},
   "outputs": [],
   "source": [
    "eee=data[data['Department']=='Electronics and Electrical Engineering']\n",
    "eee"
   ]
  },
  {
   "cell_type": "code",
   "execution_count": null,
   "metadata": {},
   "outputs": [],
   "source": [
    "eee['CodeKata Score'].mean()"
   ]
  },
  {
   "cell_type": "code",
   "execution_count": null,
   "metadata": {},
   "outputs": [],
   "source": [
    "import matplotlib.pyplot as plt\n",
    "import numpy as np\n",
    "\n",
    "y = np.array([5079.761904761905,2777.8205128205127,3164.705882352941])\n",
    "mylabels = [\"CS\", \"ECE\", \"EEE\"]\n",
    "\n",
    "plt.pie(y, labels = mylabels, startangle = 90,autopct='%1.1f%%',radius=1.2)\n",
    "plt.title('Department wise codekata performance')\n",
    "plt.show() "
   ]
  },
  {
   "cell_type": "markdown",
   "metadata": {
    "id": "9KY7RHsg76Ye"
   },
   "source": [
    "###### Department wise toppers (horizantal bar graph or any visual representations of your choice)"
   ]
  },
  {
   "cell_type": "code",
   "execution_count": null,
   "metadata": {
    "id": "ELtFOVQQ76Ye"
   },
   "outputs": [],
   "source": [
    "cs"
   ]
  },
  {
   "cell_type": "code",
   "execution_count": null,
   "metadata": {
    "id": "7HvW3mZ676Ye"
   },
   "outputs": [],
   "source": [
    "cs_toppers=cs.nlargest(10, ['CodeKata Score'])\n",
    "cs_toppers"
   ]
  },
  {
   "cell_type": "code",
   "execution_count": null,
   "metadata": {
    "id": "gRkRSe1y76Ye"
   },
   "outputs": [],
   "source": [
    "plt.barh(cs_toppers['Name'],cs_toppers['CodeKata Score'])\n",
    "plt.title('Computer science Toppers')\n",
    "plt.xlabel('CodeKata Score')\n",
    "plt.ylabel('Name')\n",
    "plt.show()"
   ]
  },
  {
   "cell_type": "code",
   "execution_count": null,
   "metadata": {
    "id": "8Z_neFSl76Yf"
   },
   "outputs": [],
   "source": [
    "elec_comm_toppers=elec_comm.nlargest(10, ['CodeKata Score'])\n",
    "elec_comm_toppers.head()"
   ]
  },
  {
   "cell_type": "code",
   "execution_count": null,
   "metadata": {},
   "outputs": [],
   "source": [
    "plt.barh(elec_comm_toppers['Name'],elec_comm_toppers['CodeKata Score'])\n",
    "plt.title('Electronics and Communication Engineering Toppers')\n",
    "plt.xlabel('CodeKata Score')\n",
    "plt.ylabel('Name')\n",
    "plt.show()"
   ]
  },
  {
   "cell_type": "code",
   "execution_count": null,
   "metadata": {},
   "outputs": [],
   "source": [
    "eee_toppers=eee.nlargest(10, ['CodeKata Score'])\n",
    "eee_toppers.head()"
   ]
  },
  {
   "cell_type": "code",
   "execution_count": null,
   "metadata": {},
   "outputs": [],
   "source": [
    "plt.barh(eee_toppers['Name'],eee_toppers['CodeKata Score'])\n",
    "plt.title('Electronics and Electrical Engineering Toppers')\n",
    "plt.xlabel('CodeKata Score')\n",
    "plt.ylabel('Name')\n",
    "plt.show()"
   ]
  },
  {
   "cell_type": "code",
   "execution_count": null,
   "metadata": {},
   "outputs": [],
   "source": [
    "# data.to_csv(\"Final_DataFrame\")"
   ]
  },
  {
   "cell_type": "code",
   "execution_count": null,
   "metadata": {},
   "outputs": [],
   "source": []
  }
 ],
 "metadata": {
  "colab": {
   "provenance": []
  },
  "kernelspec": {
   "display_name": "Python 3 (ipykernel)",
   "language": "python",
   "name": "python3"
  },
  "language_info": {
   "codemirror_mode": {
    "name": "ipython",
    "version": 3
   },
   "file_extension": ".py",
   "mimetype": "text/x-python",
   "name": "python",
   "nbconvert_exporter": "python",
   "pygments_lexer": "ipython3",
   "version": "3.9.12"
  }
 },
 "nbformat": 4,
 "nbformat_minor": 1
}
