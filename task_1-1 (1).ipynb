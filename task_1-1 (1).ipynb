{
 "cells": [
  {
   "cell_type": "code",
   "execution_count": 4,
   "id": "fa901f8c",
   "metadata": {},
   "outputs": [
    {
     "name": "stdout",
     "output_type": "stream",
     "text": [
      "rafat@gmail.com\n",
      "Valid email\n"
     ]
    },
    {
     "data": {
      "text/plain": [
       "True"
      ]
     },
     "execution_count": 4,
     "metadata": {},
     "output_type": "execute_result"
    }
   ],
   "source": [
    "import re\n",
    "email=input()\n",
    "def validate_username(n):\n",
    "    regex=\"^[a-z]+[\\._]?[a-z 0-9]+[@]\\w+[.]\\w{2,3}$\"\n",
    "    if (re.fullmatch(regex,email)):\n",
    "        print(\"Valid email\")\n",
    "        return True\n",
    "    else:\n",
    "        print(\"Invalid\")\n",
    "        return False\n",
    "\n",
    "validate_username(email)\n"
   ]
  },
  {
   "cell_type": "code",
   "execution_count": 1,
   "id": "7e5c71db",
   "metadata": {},
   "outputs": [],
   "source": [
    "#password=input()\n",
    "\n",
    "def validate_pwd1(password):\n",
    "    l, u, p, d = 0, 0, 0, 0                                                 ##\"R@m@_f0rtu9e$\"\n",
    "    if (5<len(password)<16):\n",
    "        for i in password:\n",
    "            if (i.islower()):\n",
    "                l+=1\n",
    "            \n",
    "            if (i.isupper()):\n",
    "                u+=1 \n",
    "            \n",
    "            if (i.isdigit()):\n",
    "                d+=1          \n",
    "            \n",
    "            if(i=='@'or i=='$' or i=='_' or i=='#' or i=='*' or i=='%' or i=='~' or i=='!'):\n",
    "                p+=1  \n",
    "                \n",
    "    if (l>=1 and u>=1 and d>=1 and p>=1  and l+u+d+p==len(password)):\n",
    "        print(\"Valid Password\")\n",
    "    else: \n",
    "        print(\"Invalid Password\")\n",
    "    \n",
    "                \n",
    "         \n",
    "                \n"
   ]
  },
  {
   "cell_type": "code",
   "execution_count": 2,
   "id": "c284031e",
   "metadata": {},
   "outputs": [
    {
     "name": "stdout",
     "output_type": "stream",
     "text": [
      "R@m2_f0rtune$\n",
      "Valid Password\n"
     ]
    }
   ],
   "source": [
    "password=input()\n",
    "validate_pwd1(password)"
   ]
  },
  {
   "cell_type": "code",
   "execution_count": null,
   "id": "493c8414",
   "metadata": {},
   "outputs": [],
   "source": []
  },
  {
   "cell_type": "code",
   "execution_count": 21,
   "id": "2b57be5e",
   "metadata": {},
   "outputs": [
    {
     "name": "stdout",
     "output_type": "stream",
     "text": [
      "Bts@rmy777\n",
      "Invalid Password\n"
     ]
    },
    {
     "data": {
      "text/plain": [
       "False"
      ]
     },
     "execution_count": 21,
     "metadata": {},
     "output_type": "execute_result"
    }
   ],
   "source": [
    "password=input()\n",
    "\n",
    "def validate_pwd(m):\n",
    "    l, u, p, d = 0, 0, 0, 0                                                 ##\"R@m@_f0rtu9e$\"\n",
    "    if (5<len(password)<16):\n",
    "        for i in password:\n",
    "            if (i.islower()):\n",
    "                l+=1\n",
    "            \n",
    "            if (i.isupper()):\n",
    "                u+=1 \n",
    "            \n",
    "            if (i.isdigit()):\n",
    "                d+=1          \n",
    "            \n",
    "            if(i=='@'or i=='$' or i=='_' or i=='#' or i=='*' or i=='%' or i=='~' or i=='!'):\n",
    "                p+=1  \n",
    "                \n",
    "                if (l>=1 and u>=1 and p>=1 and d>=1 and l+p+u+d==len(password)):\n",
    "                    print(\"Valid Password\")\n",
    "                    return True\n",
    "                else:\n",
    "                    print(\"Invalid Password\")\n",
    "                    return False\n",
    "validate_pwd(password)                    \n",
    "                "
   ]
  },
  {
   "cell_type": "code",
   "execution_count": null,
   "id": "84ed7b85",
   "metadata": {},
   "outputs": [],
   "source": []
  },
  {
   "cell_type": "code",
   "execution_count": null,
   "id": "196ea640",
   "metadata": {},
   "outputs": [],
   "source": []
  },
  {
   "cell_type": "code",
   "execution_count": 17,
   "id": "848aa7dd",
   "metadata": {},
   "outputs": [
    {
     "name": "stdout",
     "output_type": "stream",
     "text": [
      "mnjhyyu\n"
     ]
    }
   ],
   "source": [
    "password=input()\n",
    "def validate_pwd(m):\n",
    "    l, u, p, d = 0, 0, 0, 0     ##\"R@m@_f0rtu9e$\"\n",
    "    \n",
    "    if (5<len(password)<16):\n",
    "          for i in password:\n",
    "                if(i.islower()):\n",
    "                    l+=1\n",
    "                    \n",
    "                    if (i.isupper()):\n",
    "                        u+=1\n",
    "                        \n",
    "                        if(i.isdigit()):\n",
    "                            d+=1\n",
    "                            \n",
    "                            if(i=='@'or i=='#'or i=='*'or i=='$'or i=='!'or i=='~'or i=='_'or i=='%'):\n",
    "                                p+=1\n",
    "                                \n",
    "                                if(l>=1 and u>=1 and p>=1 and d>=1 and l+u+p+d==len(password)):\n",
    "                                    print(\"valid password\")\n",
    "                                    return True\n",
    "                                else:\n",
    "                                    print(\"invalid password\")\n",
    "                                    return False\n",
    "                                     \n",
    "validate_pwd(password)"
   ]
  },
  {
   "cell_type": "code",
   "execution_count": 13,
   "id": "bb3a72fe",
   "metadata": {},
   "outputs": [],
   "source": [
    "def password_check(passwd):\n",
    "      \n",
    "    SpecialSym =['$', '@', '#', '%']\n",
    "    val = True\n",
    "      \n",
    "    if len(passwd) < 6:\n",
    "        print('length should be at least 6')\n",
    "        val = False\n",
    "          \n",
    "    if len(passwd) > 20:\n",
    "        print('length should be not be greater than 8')\n",
    "        val = False\n",
    "          \n",
    "    if not any(char.isdigit() for char in passwd):\n",
    "        print('Password should have at least one numeral')\n",
    "        val = False\n",
    "          \n",
    "    if not any(char.isupper() for char in passwd):\n",
    "        print('Password should have at least one uppercase letter')\n",
    "        val = False\n",
    "          \n",
    "    if not any(char.islower() for char in passwd):\n",
    "        print('Password should have at least one lowercase letter')\n",
    "        val = False\n",
    "          \n",
    "    if not any(char in SpecialSym for char in passwd):\n",
    "        print('Password should have at least one of the symbols $@#')\n",
    "        val = False\n",
    "    if val:\n",
    "        return val\n",
    "  "
   ]
  },
  {
   "cell_type": "code",
   "execution_count": null,
   "id": "54241c01",
   "metadata": {},
   "outputs": [],
   "source": []
  }
 ],
 "metadata": {
  "kernelspec": {
   "display_name": "Python 3 (ipykernel)",
   "language": "python",
   "name": "python3"
  },
  "language_info": {
   "codemirror_mode": {
    "name": "ipython",
    "version": 3
   },
   "file_extension": ".py",
   "mimetype": "text/x-python",
   "name": "python",
   "nbconvert_exporter": "python",
   "pygments_lexer": "ipython3",
   "version": "3.9.12"
  }
 },
 "nbformat": 4,
 "nbformat_minor": 5
}
